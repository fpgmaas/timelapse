{
 "cells": [
  {
   "cell_type": "markdown",
   "metadata": {},
   "source": [
    "## Capture images"
   ]
  },
  {
   "cell_type": "code",
   "execution_count": 5,
   "metadata": {},
   "outputs": [],
   "source": [
    "import time\n",
    "import cv2\n",
    "import datetime as dt\n",
    "from timelapse.utils import calculate_brightness, calculate_sharpness\n",
    "from timelapse.camera import CameraProperties, Camera\n",
    "from notify_run import Notify\n",
    "notify = Notify()"
   ]
  },
  {
   "cell_type": "code",
   "execution_count": 6,
   "metadata": {},
   "outputs": [],
   "source": [
    "import logging\n",
    "logging.basicConfig(format='%(asctime)s %(levelname)-8s %(message)s',\n",
    "                    filename='../timelapse.log', \n",
    "                    filemode='w', \n",
    "                    datefmt='%Y-%m-%d %H:%M:%S',\n",
    "                    level=logging.INFO)\n",
    "logging.info('Started')"
   ]
  },
  {
   "cell_type": "code",
   "execution_count": 7,
   "metadata": {},
   "outputs": [],
   "source": [
    "MIN_BRIGHTNESS = 90\n",
    "MAX_BRIGHTNESS = 95"
   ]
  },
  {
   "cell_type": "code",
   "execution_count": 9,
   "metadata": {},
   "outputs": [
    {
     "ename": "KeyboardInterrupt",
     "evalue": "",
     "output_type": "error",
     "traceback": [
      "\u001b[0;31m---------------------------------------------------------------------------\u001b[0m",
      "\u001b[0;31mKeyboardInterrupt\u001b[0m                         Traceback (most recent call last)",
      "\u001b[0;32m<ipython-input-9-bcce3e19bc4a>\u001b[0m in \u001b[0;36m<module>\u001b[0;34m()\u001b[0m\n\u001b[1;32m     32\u001b[0m \u001b[0;34m\u001b[0m\u001b[0m\n\u001b[1;32m     33\u001b[0m \u001b[0;34m\u001b[0m\u001b[0m\n\u001b[0;32m---> 34\u001b[0;31m     \u001b[0mtime\u001b[0m\u001b[0;34m.\u001b[0m\u001b[0msleep\u001b[0m\u001b[0;34m(\u001b[0m\u001b[0;36m60.0\u001b[0m \u001b[0;34m-\u001b[0m \u001b[0;34m(\u001b[0m\u001b[0;34m(\u001b[0m\u001b[0mtime\u001b[0m\u001b[0;34m.\u001b[0m\u001b[0mtime\u001b[0m\u001b[0;34m(\u001b[0m\u001b[0;34m)\u001b[0m \u001b[0;34m-\u001b[0m \u001b[0mstarttime\u001b[0m\u001b[0;34m)\u001b[0m \u001b[0;34m%\u001b[0m \u001b[0;36m60.0\u001b[0m\u001b[0;34m)\u001b[0m\u001b[0;34m)\u001b[0m\u001b[0;34m\u001b[0m\u001b[0m\n\u001b[0m",
      "\u001b[0;31mKeyboardInterrupt\u001b[0m: "
     ]
    }
   ],
   "source": [
    "starttime = time.time()\n",
    "notification_sent = False\n",
    "\n",
    "properties = CameraProperties(width=1280, height=720, exposure=15)\n",
    "\n",
    "while True:\n",
    "    logging.info('New iteration ----------')\n",
    "    try:\n",
    "        properties.find_correct_exposure(90,95,1000)\n",
    "        properties.find_best_focus()\n",
    "        \n",
    "        camera = properties.init_camera()\n",
    "        timestamp = dt.datetime.now().strftime(\"%Y%m%d_%H%M%S\")\n",
    "        ret,frame = camera.capture()\n",
    "        props_log = camera.get_properties()\n",
    "        cv2.imwrite(f'../images/capture_{timestamp}.png',frame)\n",
    "        camera.close()\n",
    "        logging.info(f'capture_{timestamp}.png ')\n",
    "        logging.info(f'exposure: {properties[\"CV_CAP_PROP_EXPOSURE\"]}, brightness: {calculate_brightness(frame):.2f}')\n",
    "        logging.info(f'focus: {properties[\"CV_CAP_PROP_FOCUS\"]}, sharpness: {calculate_sharpness(frame):.2f}')\n",
    "        logging.info(f'props: {props_log}\\n\\n')\n",
    "        \n",
    "    except:\n",
    "        if not notification_sent:\n",
    "            notify.send('Timelapse has run into an error')\n",
    "            notification_sent=True\n",
    "        try:\n",
    "            cap.release()\n",
    "            cv2.destroyAllWindows()\n",
    "        except:\n",
    "            pass\n",
    "\n",
    "        \n",
    "    time.sleep(60.0 - ((time.time() - starttime) % 60.0))"
   ]
  },
  {
   "cell_type": "code",
   "execution_count": null,
   "metadata": {},
   "outputs": [],
   "source": []
  }
 ],
 "metadata": {
  "kernelspec": {
   "display_name": "timelapse",
   "language": "python",
   "name": "timelapse"
  }
 },
 "nbformat": 4,
 "nbformat_minor": 2
}
