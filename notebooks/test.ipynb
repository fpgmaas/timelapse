{
 "cells": [
  {
   "cell_type": "code",
   "execution_count": 1,
   "metadata": {},
   "outputs": [],
   "source": [
    "import time\n",
    "import cv2\n",
    "import datetime as dt\n",
    "from timelapse.utils import calculate_brightness, calculate_sharpness\n",
    "from timelapse.camera import CameraProperties, Camera\n",
    "import logging\n",
    "logging.basicConfig(format='%(asctime)s %(levelname)-8s %(message)s',\n",
    "                    filename='../test.log', \n",
    "                    filemode='w', \n",
    "                    datefmt='%Y-%m-%d %H:%M:%S',\n",
    "                    level=logging.INFO)\n",
    "logging.info('Started')"
   ]
  },
  {
   "cell_type": "code",
   "execution_count": 2,
   "metadata": {},
   "outputs": [
    {
     "name": "stdout",
     "output_type": "stream",
     "text": [
      "{'CAP_PROP_FRAME_WIDTH': 1280.0, 'CAP_PROP_FRAME_HEIGHT': 720.0, 'CV_CAP_PROP_EXPOSURE': 599.0, 'CV_CAP_PROP_FOCUS': 0.0, 'CV_CAP_PROP_AUTOFOCUS': 0.0}\n",
      "26.129102630210703\n",
      "22.26296883202894\n"
     ]
    }
   ],
   "source": [
    "properties = CameraProperties(width=1280, height=720,exposure=600)\n",
    "#properties.find_correct_exposure(200,200.1,1000)\n",
    "#properties.find_best_focus()\n",
    "camera = properties.init_camera()\n",
    "ret,frame = camera.capture()\n",
    "cv2.imwrite(f'../images/test.png',frame)\n",
    "print(camera.get_properties())\n",
    "camera.close()\n",
    "print(calculate_brightness(frame))\n",
    "print(calculate_sharpness(frame))"
   ]
  },
  {
   "cell_type": "code",
   "execution_count": null,
   "metadata": {},
   "outputs": [],
   "source": []
  }
 ],
 "metadata": {
  "kernelspec": {
   "display_name": "timelapse",
   "language": "python",
   "name": "timelapse"
  },
  "language_info": {
   "codemirror_mode": {
    "name": "ipython",
    "version": 3
   },
   "file_extension": ".py",
   "mimetype": "text/x-python",
   "name": "python",
   "nbconvert_exporter": "python",
   "pygments_lexer": "ipython3",
   "version": "3.6.6"
  }
 },
 "nbformat": 4,
 "nbformat_minor": 2
}
