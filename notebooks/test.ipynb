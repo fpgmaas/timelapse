{
 "cells": [
  {
   "cell_type": "code",
   "execution_count": null,
   "metadata": {},
   "outputs": [],
   "source": [
    "import time\n",
    "import cv2\n",
    "import datetime as dt\n",
    "from timelapse.utils import calculate_brightness, calculate_sharpness\n",
    "from timelapse.camera import CameraProperties, Camera\n",
    "import logging\n",
    "logging.basicConfig(format='%(asctime)s %(levelname)-8s %(message)s',\n",
    "                    filename='../test.log', \n",
    "                    filemode='w', \n",
    "                    datefmt='%Y-%m-%d %H:%M:%S',\n",
    "                    level=logging.INFO)\n",
    "logging.info('Started')"
   ]
  },
  {
   "cell_type": "code",
   "execution_count": null,
   "metadata": {},
   "outputs": [],
   "source": [
    "properties = CameraProperties(width=1280, height=720,exposure=15)\n",
    "properties.find_correct_exposure(90,95,1000)\n",
    "properties.find_best_focus()\n",
    "camera = properties.init_camera()\n",
    "ret,frame = camera.capture()\n",
    "cv2.imwrite(f'../images/test.png',frame)\n",
    "print(camera.get_properties())\n",
    "camera.close()\n",
    "print(calculate_brightness(frame))\n",
    "print(calculate_sharpness(frame))"
   ]
  },
  {
   "cell_type": "code",
   "execution_count": null,
   "metadata": {},
   "outputs": [],
   "source": []
  }
 ],
 "metadata": {
  "kernelspec": {
   "display_name": "timelapse",
   "language": "python",
   "name": "timelapse"
  },
  "language_info": {
   "codemirror_mode": {
    "name": "ipython",
    "version": 3
   },
   "file_extension": ".py",
   "mimetype": "text/x-python",
   "name": "python",
   "nbconvert_exporter": "python",
   "pygments_lexer": "ipython3",
   "version": "3.6.6"
  }
 },
 "nbformat": 4,
 "nbformat_minor": 2
}
