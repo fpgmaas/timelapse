{
 "cells": [
  {
   "cell_type": "markdown",
   "metadata": {},
   "source": [
    "## Capture images"
   ]
  },
  {
   "cell_type": "code",
   "execution_count": null,
   "metadata": {},
   "outputs": [],
   "source": [
    "import time\n",
    "import cv2\n",
    "import datetime as dt\n",
    "from notify_run import Notify\n",
    "notify = Notify()"
   ]
  },
  {
   "cell_type": "code",
   "execution_count": null,
   "metadata": {},
   "outputs": [],
   "source": [
    "def get_properties(cap):\n",
    "    properties = {\n",
    "        10:'CV_CAP_PROP_BRIGHTNESS',\n",
    "        11:'CV_CAP_PROP_CONTRAST',\n",
    "        12:'CV_CAP_PROP_SATURATION',\n",
    "        13:'CV_CAP_PROP_HUE',\n",
    "        14:'CV_CAP_PROP_GAIN',\n",
    "        15:'CV_CAP_PROP_EXPOSURE'\n",
    "    }\n",
    "    \n",
    "    return [cap.get(key) for key,value in properties.items()]"
   ]
  },
  {
   "cell_type": "code",
   "execution_count": null,
   "metadata": {},
   "outputs": [],
   "source": [
    "starttime = time.time()\n",
    "notification_sent = False\n",
    "while True:\n",
    "    try:\n",
    "        cap = cv2.VideoCapture(0) # video capture source camera (Here webcam of laptop) \n",
    "        cap.set(cv2.CAP_PROP_FRAME_WIDTH, 1280)\n",
    "        cap.set(cv2.CAP_PROP_FRAME_HEIGHT, 720)\n",
    "        cap.set(cv2.CAP_PROP_EXPOSURE, 7)\n",
    "        timestamp = dt.datetime.now().strftime(\"%Y%m%d_%H%M%S\")\n",
    "        ret,frame = cap.read()\n",
    "        props = get_properties(cap)\n",
    "        cv2.imwrite(f'images/capture_{timestamp}.png',frame)\n",
    "        cap.release()\n",
    "        cv2.destroyAllWindows()\n",
    "        \n",
    "        with open(\"log.txt\", \"a+\") as f:\n",
    "            f.write(f'{timestamp}: {props}\\n')\n",
    "        \n",
    "    except:\n",
    "        if not notification_sent:\n",
    "            notify.send('Timelapse has run into an error')\n",
    "            notification_sent=True\n",
    "        \n",
    "    time.sleep(60.0 - ((time.time() - starttime) % 60.0))"
   ]
  },
  {
   "cell_type": "code",
   "execution_count": null,
   "metadata": {},
   "outputs": [],
   "source": []
  }
 ],
 "metadata": {
  "kernelspec": {
   "display_name": "timelapse",
   "language": "python",
   "name": "timelapse"
  }
 },
 "nbformat": 4,
 "nbformat_minor": 2
}
