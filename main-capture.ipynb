{
 "cells": [
  {
   "cell_type": "markdown",
   "metadata": {},
   "source": [
    "## Capture images"
   ]
  },
  {
   "cell_type": "code",
   "execution_count": null,
   "metadata": {},
   "outputs": [],
   "source": [
    "import time\n",
    "import cv2\n",
    "import datetime as dt\n",
    "from notify_run import Notify\n",
    "notify = Notify()"
   ]
  },
  {
   "cell_type": "code",
   "execution_count": null,
   "metadata": {},
   "outputs": [],
   "source": [
    "starttime = time.time()\n",
    "notification_sent = False\n",
    "ramp_frames = 10\n",
    "while True:\n",
    "    try:\n",
    "        cap = cv2.VideoCapture(0) # video capture source camera (Here webcam of laptop) \n",
    "        cap.set(cv2.CAP_PROP_FRAME_WIDTH, 1280)\n",
    "        cap.set(cv2.CAP_PROP_FRAME_HEIGHT, 720)\n",
    "        for i in range(ramp_frames):\n",
    "            ret,frame = cap.read()\n",
    "            time.sleep(1/ramp_frames)\n",
    "        cv2.imwrite(f'images/capture_{dt.datetime.now().strftime(\"%Y%m%d_%H%M%S\")}.png',frame)\n",
    "        cap.release()\n",
    "        cv2.destroyAllWindows()\n",
    "    except:\n",
    "        if not notification_sent:\n",
    "            notify.send('Timelapse has run into an error')\n",
    "            notification_sent=True\n",
    "        \n",
    "    time.sleep(60.0 - ((time.time() - starttime) % 60.0))"
   ]
  }
 ],
 "metadata": {
  "kernelspec": {
   "display_name": "timelapse",
   "language": "python",
   "name": "timelapse"
  },
  "language_info": {
   "codemirror_mode": {
    "name": "ipython",
    "version": 3
   },
   "file_extension": ".py",
   "mimetype": "text/x-python",
   "name": "python",
   "nbconvert_exporter": "python",
   "pygments_lexer": "ipython3",
   "version": "3.6.6"
  }
 },
 "nbformat": 4,
 "nbformat_minor": 2
}
