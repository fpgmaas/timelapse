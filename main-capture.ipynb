{
 "cells": [
  {
   "cell_type": "markdown",
   "metadata": {},
   "source": [
    "## Capture images"
   ]
  },
  {
   "cell_type": "code",
   "execution_count": null,
   "metadata": {},
   "outputs": [],
   "source": [
    "import time\n",
    "import cv2\n",
    "import datetime as dt\n",
    "from timelapse.utils import calculate_brightness, find_correct_exposure, get_properties, \\\n",
    "find_correct_exposure, find_best_focus, calculate_sharpness\n",
    "from notify_run import Notify\n",
    "notify = Notify()"
   ]
  },
  {
   "cell_type": "code",
   "execution_count": null,
   "metadata": {},
   "outputs": [],
   "source": [
    "import logging\n",
    "logging.basicConfig(format='%(asctime)s %(levelname)-8s %(message)s',\n",
    "                    filename='timelapse.log', \n",
    "                    filemode='w', \n",
    "                    datefmt='%Y-%m-%d %H:%M:%S',\n",
    "                    level=logging.INFO)\n",
    "logging.info('Started')"
   ]
  },
  {
   "cell_type": "code",
   "execution_count": null,
   "metadata": {},
   "outputs": [],
   "source": [
    "starttime = time.time()\n",
    "notification_sent = False\n",
    "exposure = 62\n",
    "focus = 999\n",
    "\n",
    "while True:\n",
    "    try:\n",
    "        # FIND OPTIMAL PARAMETERS\n",
    "        cap = cv2.VideoCapture(0)\n",
    "        cap.set(cv2.CAP_PROP_FRAME_WIDTH, 1280)\n",
    "        cap.set(cv2.CAP_PROP_FRAME_HEIGHT, 720)\n",
    "        cap.set(cv2.CAP_PROP_AUTO_EXPOSURE, 1)\n",
    "        cap.set(cv2.CAP_PROP_EXPOSURE, exposure)\n",
    "        cap.set(cv2.CAP_PROP_AUTOFOCUS, 0)\n",
    "        cap, exposure, n_iter = find_correct_exposure(cap,100,125,1000, verbose = True)\n",
    "        cap, new_focus = find_best_focus(cap)\n",
    "        if abs(focus-new_focus)>10:\n",
    "            focus=new_focus\n",
    "        \n",
    "        # REINITIALIZE THE CAMERA\n",
    "        cap.release()\n",
    "        cv2.destroyAllWindows()\n",
    "        cap = cv2.VideoCapture(0)\n",
    "        cap.set(cv2.CAP_PROP_FRAME_WIDTH, 1280)\n",
    "        cap.set(cv2.CAP_PROP_FRAME_HEIGHT, 720)\n",
    "        cap.set(cv2.CAP_PROP_AUTO_EXPOSURE, 1)\n",
    "        cap.set(cv2.CAP_PROP_EXPOSURE, exposure)\n",
    "        cap.set(cv2.CAP_PROP_AUTOFOCUS, 0)\n",
    "        cap.set(cv2.CAP_PROP_FOCUS, focus)\n",
    "\n",
    "        # TAKE A PICTURE AND STORE IT\n",
    "        timestamp = dt.datetime.now().strftime(\"%Y%m%d_%H%M%S\")\n",
    "        ret,frame = cap.read()\n",
    "        props = get_properties(cap)\n",
    "        cv2.imwrite(f'images/capture_{timestamp}.png',frame)\n",
    "        cap.release()\n",
    "        cv2.destroyAllWindows()\n",
    "        logging.info(f'capture_{timestamp}.png ---')\n",
    "        logging.info(f'exposure: {exposure}, brightness: {calculate_brightness(frame):.2f}')\n",
    "        logging.info(f'focus: {focus}, sharpness: {calculate_sharpness(frame):.2f}')\n",
    "        logging.info(f'props: {props}\\n\\n')\n",
    "        \n",
    "    except:\n",
    "        if not notification_sent:\n",
    "            notify.send('Timelapse has run into an error')\n",
    "            notification_sent=True\n",
    "        try:\n",
    "            cap.release()\n",
    "            cv2.destroyAllWindows()\n",
    "        except:\n",
    "            pass\n",
    "\n",
    "        \n",
    "    time.sleep(60.0 - ((time.time() - starttime) % 60.0))"
   ]
  },
  {
   "cell_type": "code",
   "execution_count": null,
   "metadata": {},
   "outputs": [],
   "source": []
  }
 ],
 "metadata": {
  "kernelspec": {
   "display_name": "timelapse",
   "language": "python",
   "name": "timelapse"
  }
 },
 "nbformat": 4,
 "nbformat_minor": 2
}
