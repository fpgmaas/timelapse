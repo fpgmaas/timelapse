{
 "cells": [
  {
   "cell_type": "code",
   "execution_count": null,
   "metadata": {},
   "outputs": [],
   "source": [
    "import time\n",
    "import cv2\n",
    "import datetime as dt\n",
    "from timelapse.utils import calculate_brightness, find_correct_exposure, get_properties, \\\n",
    "find_correct_exposure, find_best_focus, calculate_sharpness, init_cap_dict, end_cap\n",
    "import logging\n",
    "logging.basicConfig(format='%(asctime)s %(levelname)-8s %(message)s',\n",
    "                    filename='test.log', \n",
    "                    filemode='w', \n",
    "                    datefmt='%Y-%m-%d %H:%M:%S',\n",
    "                    level=logging.INFO)\n",
    "logging.info('Started')\n",
    "\n",
    "properties = {'CV_CAP_PROP_FRAME_WIDTH':1280, \n",
    "              'CV_CAP_PROP_FRAME_HEIGHT':720, \n",
    "              'CV_CAP_PROP_EXPOSURE':5,\n",
    "              'CV_CAP_PROP_AUTOFOCUS':0,\n",
    "              'CV_CAP_PROP_FOCUS':0}\n",
    "\n",
    "properties, n_iter = find_correct_exposure(properties, 90,90.25,1000)\n",
    "properties = find_best_focus(properties)\n",
    "cap = init_cap_dict(properties)\n",
    "\n",
    "ret,frame = cap.read()\n",
    "cv2.imwrite(f'images/test.png',frame)\n",
    "print('Resolution: ' + str(frame.shape[0]) + ' x ' + str(frame.shape[1]))\n",
    "print(get_properties(cap))\n",
    "end_cap(cap)\n",
    "print(calculate_brightness(frame))\n",
    "print(calculate_sharpness(frame))"
   ]
  },
  {
   "cell_type": "code",
   "execution_count": null,
   "metadata": {},
   "outputs": [],
   "source": [
    "properties = {'CV_CAP_PROP_FRAME_WIDTH':1280, \n",
    "              'CV_CAP_PROP_FRAME_HEIGHT':720, \n",
    "              'CV_CAP_PROP_EXPOSURE':20,\n",
    "              'CV_CAP_PROP_AUTOFOCUS':0,\n",
    "              'CV_CAP_PROP_FOCUS':0}\n",
    "for focus in range(0,10,2):\n",
    "    properties['CV_CAP_PROP_FOCUS'] = focus\n",
    "    cap = init_cap_dict(properties)\n",
    "    ret,frame = cap.read()  \n",
    "    cv2.imwrite(f'images/test_{focus}.png',frame)\n",
    "    print('Resolution: ' + str(frame.shape[0]) + ' x ' + str(frame.shape[1]))\n",
    "    print(get_properties(cap))\n",
    "    end_cap(cap)\n",
    "    calculate_brightness(frame)\n",
    "    calculate_sharpness(frame)\n",
    "    "
   ]
  },
  {
   "cell_type": "code",
   "execution_count": null,
   "metadata": {},
   "outputs": [],
   "source": [
    "end_cap(cap)"
   ]
  },
  {
   "cell_type": "code",
   "execution_count": null,
   "metadata": {},
   "outputs": [],
   "source": [
    "pil_image = Image.fromarray(image_array)\n",
    "stat = ImageStat.Stat(pil_image)\n",
    "r,g,b = stat.mean\n",
    "return math.sqrt(0.241*(r**2) + 0.691*(g**2) + 0.068*(b**2))"
   ]
  },
  {
   "cell_type": "code",
   "execution_count": null,
   "metadata": {},
   "outputs": [],
   "source": [
    "from PIL import Image, ImageStat\n",
    "import math\n",
    "image_array = frame\n",
    "pil_image = Image.fromarray(image_array)\n",
    "stat = ImageStat.Stat(pil_image)"
   ]
  },
  {
   "cell_type": "code",
   "execution_count": null,
   "metadata": {},
   "outputs": [],
   "source": [
    "math.sqrt(0.241*(256**2) + 0.691*(256**2) + 0.068*(256**2))"
   ]
  },
  {
   "cell_type": "code",
   "execution_count": null,
   "metadata": {},
   "outputs": [],
   "source": [
    "# min = 0, max = 256\n",
    "current_brightness = 230\n",
    "target_brightness = 110"
   ]
  },
  {
   "cell_type": "code",
   "execution_count": null,
   "metadata": {},
   "outputs": [],
   "source": [
    "def doit(x):\n",
    "    x = np.ceil(x*1.05)\n",
    "    return x"
   ]
  },
  {
   "cell_type": "code",
   "execution_count": null,
   "metadata": {},
   "outputs": [],
   "source": [
    "import numpy as np\n",
    "x = 1\n",
    "for i in range(80):\n",
    "    x = doit(x)\n",
    "    print(x)"
   ]
  },
  {
   "cell_type": "code",
   "execution_count": null,
   "metadata": {},
   "outputs": [],
   "source": [
    "import numpy as np\n",
    "np.unique(np.array([25, 23.0, 21.0, 20.0, 19.0]))"
   ]
  },
  {
   "cell_type": "code",
   "execution_count": null,
   "metadata": {},
   "outputs": [],
   "source": [
    "[1,2,1,2,1,2,1]"
   ]
  }
 ],
 "metadata": {
  "kernelspec": {
   "display_name": "timelapse",
   "language": "python",
   "name": "timelapse"
  },
  "language_info": {
   "codemirror_mode": {
    "name": "ipython",
    "version": 3
   },
   "file_extension": ".py",
   "mimetype": "text/x-python",
   "name": "python",
   "nbconvert_exporter": "python",
   "pygments_lexer": "ipython3",
   "version": "3.6.6"
  }
 },
 "nbformat": 4,
 "nbformat_minor": 2
}
