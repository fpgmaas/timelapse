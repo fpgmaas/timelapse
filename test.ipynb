{
 "cells": [
  {
   "cell_type": "code",
   "execution_count": null,
   "metadata": {},
   "outputs": [],
   "source": [
    "import time\n",
    "import cv2\n",
    "import datetime as dt\n",
    "from timelapse.utils import calculate_brightness, find_correct_exposure, get_properties, \\\n",
    "find_correct_exposure, find_best_focus, calculate_sharpness, init_cap_dict, end_cap\n",
    "import logging\n",
    "logging.basicConfig(format='%(asctime)s %(levelname)-8s %(message)s',\n",
    "                    filename='test.log', \n",
    "                    filemode='w', \n",
    "                    datefmt='%Y-%m-%d %H:%M:%S',\n",
    "                    level=logging.INFO)\n",
    "logging.info('Started')"
   ]
  },
  {
   "cell_type": "code",
   "execution_count": null,
   "metadata": {},
   "outputs": [],
   "source": [
    "properties = {'CV_CAP_PROP_FRAME_WIDTH':1280, \n",
    "              'CV_CAP_PROP_FRAME_HEIGHT':720, \n",
    "              'CV_CAP_PROP_EXPOSURE':30,\n",
    "              'CV_CAP_PROP_AUTOFOCUS':0,\n",
    "              'CV_CAP_PROP_FOCUS':0}\n",
    "\n",
    "properties, n_iter = find_correct_exposure(properties, 100,125,1000)\n",
    "properties = find_best_focus(properties)\n",
    "cap = init_cap_dict(properties)"
   ]
  },
  {
   "cell_type": "code",
   "execution_count": null,
   "metadata": {},
   "outputs": [],
   "source": [
    "ret,frame = cap.read()\n",
    "cv2.imwrite(f'images/test.png',frame)\n",
    "print('Resolution: ' + str(frame.shape[0]) + ' x ' + str(frame.shape[1]))\n",
    "print(get_properties(cap))\n",
    "end_cap()\n",
    "calculate_brightness(frame)\n",
    "calculate_sharpness(frame)"
   ]
  },
  {
   "cell_type": "code",
   "execution_count": null,
   "metadata": {},
   "outputs": [],
   "source": [
    "properties = {'CV_CAP_PROP_FRAME_WIDTH':1280, \n",
    "              'CV_CAP_PROP_FRAME_HEIGHT':720, \n",
    "              'CV_CAP_PROP_EXPOSURE':20,\n",
    "              'CV_CAP_PROP_AUTOFOCUS':0,\n",
    "              'CV_CAP_PROP_FOCUS':0}\n",
    "for focus in range(0,10,2):\n",
    "    properties['CV_CAP_PROP_FOCUS'] = focus\n",
    "    cap = init_cap_dict(properties)\n",
    "    ret,frame = cap.read()  \n",
    "    cv2.imwrite(f'images/test_{focus}.png',frame)\n",
    "    print('Resolution: ' + str(frame.shape[0]) + ' x ' + str(frame.shape[1]))\n",
    "    print(get_properties(cap))\n",
    "    end_cap(cap)\n",
    "    calculate_brightness(frame)\n",
    "    calculate_sharpness(frame)\n",
    "    "
   ]
  },
  {
   "cell_type": "code",
   "execution_count": null,
   "metadata": {},
   "outputs": [],
   "source": []
  }
 ],
 "metadata": {
  "kernelspec": {
   "display_name": "timelapse",
   "language": "python",
   "name": "timelapse"
  },
  "language_info": {
   "codemirror_mode": {
    "name": "ipython",
    "version": 3
   },
   "file_extension": ".py",
   "mimetype": "text/x-python",
   "name": "python",
   "nbconvert_exporter": "python",
   "pygments_lexer": "ipython3",
   "version": "3.6.6"
  }
 },
 "nbformat": 4,
 "nbformat_minor": 2
}
