{
 "cells": [
  {
   "cell_type": "code",
   "execution_count": null,
   "metadata": {},
   "outputs": [],
   "source": [
    "import time\n",
    "import cv2\n",
    "import datetime as dt\n",
    "\n",
    "cap = cv2.VideoCapture(0) # video capture source camera (Here webcam of laptop) \n",
    "cap.set(cv2.CAP_PROP_FRAME_WIDTH, 1280)\n",
    "cap.set(cv2.CAP_PROP_FRAME_HEIGHT, 720)\n",
    "\n",
    "ret,frame = cap.read()\n",
    "cv2.imwrite(f'images/test.png',frame)\n",
    "print('Resolution: ' + str(frame.shape[0]) + ' x ' + str(frame.shape[1]))\n",
    "cap.release()\n",
    "cv2.destroyAllWindows()\n"
   ]
  },
  {
   "cell_type": "code",
   "execution_count": null,
   "metadata": {},
   "outputs": [],
   "source": []
  },
  {
   "cell_type": "code",
   "execution_count": null,
   "metadata": {},
   "outputs": [],
   "source": [
    "properties = {\n",
    "    10:'CV_CAP_PROP_BRIGHTNESS',\n",
    "    11:'CV_CAP_PROP_CONTRAST',\n",
    "    12:'CV_CAP_PROP_SATURATION',\n",
    "    13:'CV_CAP_PROP_HUE',\n",
    "    14:'CV_CAP_PROP_GAIN',\n",
    "    15:'CV_CAP_PROP_EXPOSURE'\n",
    "}\n",
    "for key,value in properties.items():\n",
    "    print(cv2.VideoCapture(0).get(key))"
   ]
  },
  {
   "cell_type": "code",
   "execution_count": null,
   "metadata": {},
   "outputs": [],
   "source": []
  }
 ],
 "metadata": {
  "kernelspec": {
   "display_name": "timelapse",
   "language": "python",
   "name": "timelapse"
  },
  "language_info": {
   "codemirror_mode": {
    "name": "ipython",
    "version": 3
   },
   "file_extension": ".py",
   "mimetype": "text/x-python",
   "name": "python",
   "nbconvert_exporter": "python",
   "pygments_lexer": "ipython3",
   "version": "3.6.6"
  }
 },
 "nbformat": 4,
 "nbformat_minor": 2
}
