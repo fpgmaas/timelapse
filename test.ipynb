{
 "cells": [
  {
   "cell_type": "code",
   "execution_count": null,
   "metadata": {},
   "outputs": [],
   "source": [
    "import time\n",
    "import cv2\n",
    "import datetime as dt\n",
    "from timelapse.utils import calculate_brightness, find_correct_exposure, get_properties, \\\n",
    "find_correct_exposure, find_best_focus, calculate_sharpness\n",
    "import logging\n",
    "logging.basicConfig(format='%(asctime)s %(levelname)-8s %(message)s',\n",
    "                    filename='test.log', \n",
    "                    filemode='w', \n",
    "                    datefmt='%Y-%m-%d %H:%M:%S',\n",
    "                    level=logging.INFO)\n",
    "logging.info('Started')"
   ]
  },
  {
   "cell_type": "code",
   "execution_count": null,
   "metadata": {},
   "outputs": [],
   "source": [
    "cap = cv2.VideoCapture(0) # video capture source camera (Here webcam of laptop) \n",
    "cap.set(cv2.CAP_PROP_FRAME_WIDTH, 1280)\n",
    "cap.set(cv2.CAP_PROP_FRAME_HEIGHT, 720)\n",
    "cap.set(cv2.CAP_PROP_AUTO_EXPOSURE, 1)\n",
    "cap.set(cv2.CAP_PROP_EXPOSURE, 34)\n",
    "cap.set(cv2.CAP_PROP_AUTOFOCUS, 0)\n",
    "\n",
    "cap, exposure, n_iter=find_correct_exposure(cap,100,125,1000, verbose = True)\n",
    "cap.set(cv2.CAP_PROP_EXPOSURE, exposure)\n",
    "print(get_properties(cap))\n",
    "\n",
    "\n",
    "cap, best_focus = find_best_focus(cap)\n",
    "cap.set(cv2.CAP_PROP_FOCUS, best_focus)\n",
    "print(get_properties(cap))\n",
    "\n",
    "cap.release()\n",
    "cv2.destroyAllWindows()\n",
    "\n",
    "cap = cv2.VideoCapture(0)\n",
    "cap.set(cv2.CAP_PROP_FRAME_WIDTH, 1280)\n",
    "cap.set(cv2.CAP_PROP_FRAME_HEIGHT, 720)\n",
    "cap.set(cv2.CAP_PROP_AUTO_EXPOSURE, 1)\n",
    "cap.set(cv2.CAP_PROP_EXPOSURE, exposure)\n",
    "cap.set(cv2.CAP_PROP_AUTOFOCUS, 0)\n",
    "cap.set(cv2.CAP_PROP_FOCUS, best_focus)\n",
    "\n",
    "ret,frame = cap.read()\n",
    "time.sleep(2)\n",
    "cv2.imwrite(f'images/test.png',frame)\n",
    "print('Resolution: ' + str(frame.shape[0]) + ' x ' + str(frame.shape[1]))\n",
    "print(get_properties(cap))\n",
    "cap.release()\n",
    "cv2.destroyAllWindows()\n",
    "calculate_brightness(frame)\n",
    "calculate_sharpness(frame)"
   ]
  },
  {
   "cell_type": "code",
   "execution_count": null,
   "metadata": {},
   "outputs": [],
   "source": [
    "cap.release()\n",
    "cv2.destroyAllWindows()"
   ]
  },
  {
   "cell_type": "code",
   "execution_count": null,
   "metadata": {},
   "outputs": [],
   "source": [
    "import time\n",
    "import cv2\n",
    "import datetime as dt\n",
    "from timelapse.utils import calculate_brightness, find_correct_exposure, get_properties\n",
    "\n",
    "\n",
    "cap = cv2.VideoCapture(0)\n",
    "cap.set(cv2.CAP_PROP_FRAME_WIDTH, 1280)\n",
    "cap.set(cv2.CAP_PROP_FRAME_HEIGHT, 720)\n",
    "cap.set(cv2.CAP_PROP_AUTO_EXPOSURE, 1)\n",
    "cap.set(cv2.CAP_PROP_EXPOSURE, 34)\n",
    "cap.set(cv2.CAP_PROP_AUTOFOCUS, 1)\n",
    "cap.set(cv2.CAP_PROP_FOCUS ,0)\n",
    "\n",
    "print(get_properties(cap))\n",
    "ret,frame = cap.read()\n",
    "cv2.imwrite(f'images/test.png',frame)\n",
    "\n",
    "cap.release()\n",
    "cv2.destroyAllWindows()\n",
    "calculate_sharpness(frame)"
   ]
  },
  {
   "cell_type": "code",
   "execution_count": null,
   "metadata": {},
   "outputs": [],
   "source": [
    "def calculate_sharpness(frame):\n",
    "    gray = cv2.cvtColor(frame, cv2.COLOR_BGR2GRAY)\n",
    "    return cv2.Laplacian(gray, cv2.CV_64F).var()\n",
    "\n",
    "def find_best_focus(cap):\n",
    "    logging.info('Finding the optimal focus.')\n",
    "    cap.set(cv2.CAP_PROP_AUTOFOCUS, 0)\n",
    "    sharpness_dict = dict()\n",
    "    for focus in range(0,255,5):\n",
    "        cap.set(cv2.CAP_PROP_FOCUS ,focus)\n",
    "        ret,frame = cap.read()\n",
    "        sharpness_dict[focus] = calculate_sharpness(frame)\n",
    "    \n",
    "    logging.info('Sharpness per focus value: ' + ', '.join([f'{k}:{round(v,1)}' for k, v in sharpness_dict.items()]))\n",
    "    best_focus = max(sharpness_dict, key=sharpness_dict.get)\n",
    "    logging.info(f'Best focus at {best_focus}, {sharpness_dict[best_focus]}')\n",
    "    cap.set(cv2.CAP_PROP_FOCUS ,best_focus)\n",
    "    return cap, best_focus\n",
    "        "
   ]
  },
  {
   "cell_type": "code",
   "execution_count": null,
   "metadata": {},
   "outputs": [],
   "source": [
    "cap = cv2.VideoCapture(0)\n",
    "cap.set(cv2.CAP_PROP_FRAME_WIDTH, 1280)\n",
    "cap.set(cv2.CAP_PROP_FRAME_HEIGHT, 720)\n",
    "cap.set(cv2.CAP_PROP_AUTO_EXPOSURE, 1)\n",
    "cap.set(cv2.CAP_PROP_EXPOSURE, 10)\n",
    "cap.set(cv2.CAP_PROP_AUTOFOCUS, 0)\n",
    "cap.set(cv2.CAP_PROP_FOCUS ,10)\n",
    "\n",
    "cap, best_focus = find_best_focus(cap)\n",
    "print(get_properties(cap))\n",
    "ret,frame = cap.read()\n",
    "cv2.imwrite(f'images/test.png',frame)\n",
    "\n",
    "cap.release()\n",
    "cv2.destroyAllWindows()\n",
    "calculate_sharpness(frame)"
   ]
  },
  {
   "cell_type": "code",
   "execution_count": null,
   "metadata": {},
   "outputs": [],
   "source": [
    "cap = cv2.VideoCapture(0)\n",
    "cap.set(cv2.CAP_PROP_FRAME_WIDTH, 1280)\n",
    "cap.set(cv2.CAP_PROP_FRAME_HEIGHT, 720)\n",
    "cap.set(cv2.CAP_PROP_AUTO_EXPOSURE, 1)\n",
    "cap.set(cv2.CAP_PROP_EXPOSURE, 0)\n",
    "cap.set(cv2.CAP_PROP_AUTOFOCUS, 0)\n",
    "cap.set(cv2.CAP_PROP_FOCUS ,10)\n",
    "for i in range(30):\n",
    "    print(cap.get(i))"
   ]
  },
  {
   "cell_type": "code",
   "execution_count": null,
   "metadata": {},
   "outputs": [],
   "source": [
    "cap.release()\n",
    "cv2.destroyAllWindows()\n",
    "calculate_brightness(frame)"
   ]
  },
  {
   "cell_type": "code",
   "execution_count": null,
   "metadata": {},
   "outputs": [],
   "source": []
  }
 ],
 "metadata": {
  "kernelspec": {
   "display_name": "timelapse",
   "language": "python",
   "name": "timelapse"
  },
  "language_info": {
   "codemirror_mode": {
    "name": "ipython",
    "version": 3
   },
   "file_extension": ".py",
   "mimetype": "text/x-python",
   "name": "python",
   "nbconvert_exporter": "python",
   "pygments_lexer": "ipython3",
   "version": "3.6.6"
  }
 },
 "nbformat": 4,
 "nbformat_minor": 2
}
