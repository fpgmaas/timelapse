{
 "cells": [
  {
   "cell_type": "code",
   "execution_count": 1,
   "metadata": {},
   "outputs": [
    {
     "name": "stdout",
     "output_type": "stream",
     "text": [
      "Resolution: 1080 x 1920\n"
     ]
    }
   ],
   "source": [
    "import time\n",
    "import cv2\n",
    "import datetime as dt\n",
    "\n",
    "cap = cv2.VideoCapture(0) # video capture source camera (Here webcam of laptop) \n",
    "cap.set(cv2.CAP_PROP_FRAME_WIDTH, 1920)\n",
    "cap.set(cv2.CAP_PROP_FRAME_HEIGHT, 1080)\n",
    "\n",
    "ret,frame = cap.read()\n",
    "cv2.imwrite(f'images/capture_{dt.datetime.now().strftime(\"%Y%m%d_%H%M%S\")}.png',frame)\n",
    "print('Resolution: ' + str(frame.shape[0]) + ' x ' + str(frame.shape[1]))\n",
    "cv2.destroyAllWindows()\n"
   ]
  },
  {
   "cell_type": "code",
   "execution_count": 2,
   "metadata": {},
   "outputs": [],
   "source": [
    "# To copy files over SSH from RPi to local machine: \n",
    "# scp florian@192.168.68.69:/home/florian/timelapse/images/\\* images/"
   ]
  },
  {
   "cell_type": "code",
   "execution_count": null,
   "metadata": {},
   "outputs": [],
   "source": []
  }
 ],
 "metadata": {
  "kernelspec": {
   "display_name": "timelapse",
   "language": "python",
   "name": "timelapse"
  },
  "language_info": {
   "codemirror_mode": {
    "name": "ipython",
    "version": 3
   },
   "file_extension": ".py",
   "mimetype": "text/x-python",
   "name": "python",
   "nbconvert_exporter": "python",
   "pygments_lexer": "ipython3",
   "version": "3.6.6"
  }
 },
 "nbformat": 4,
 "nbformat_minor": 2
}
